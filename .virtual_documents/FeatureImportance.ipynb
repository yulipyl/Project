## Step 1 - Import the Libraries
import numpy as np
import pandas as pd
import pandas_datareader as pdr
import yfinance as yf
import matplotlib.pyplot as plt
import matplotlib
import matplotlib.dates as mdates
import ta  # Technical Analysis library

from sklearn.preprocessing import MinMaxScaler
from sklearn.preprocessing import LabelEncoder
from sklearn.model_selection import TimeSeriesSplit
from sklearn.metrics import mean_squared_error, r2_score
from sklearn import linear_model

from tensorflow.keras.models import Sequential
from tensorflow.keras.layers import LSTM, Dropout, Dense
from tensorflow.keras import backend as K
from tensorflow.keras.callbacks import EarlyStopping
from tensorflow.keras.optimizers import Adam
from tensorflow.keras.models import load_model
from tensorflow.keras.utils import plot_model


## Step 2 – Reading our training data and getting our training data in shape
def load_stock_data(ticker, start_date, end_date):
    """Load stock data from Yahoo Finance."""
    data = yf.download(ticker, start=start_date, end=end_date)
    data.reset_index(inplace=True)  # Ensure 'Date' is a column, not the index
    return data

def feature_engineering(data):
    # Calculate MACD
    data['macd'] = ta.trend.macd(data['Adj Close'])
    
    # Calculate Bollinger Bands
    bollinger = ta.volatility.BollingerBands(data['Adj Close'])
    data['boll_ub'] = bollinger.bollinger_hband()
    data['boll_lb'] = bollinger.bollinger_lband()
    
    # Calculate RSI with a window size of 30
    rsi_window = 30
    data[f'rsi_{rsi_window}'] = ta.momentum.RSIIndicator(data['Adj Close'], window=rsi_window).rsi()
    
    # Calculate ADX with a window size of 30
    adx_window = 30
    adx = ta.trend.ADXIndicator(data['High'], data['Low'], data['Adj Close'], window=adx_window)
    data[f'dx_{adx_window}'] = adx.adx()
    
    # Calculate SMA
    data['close_30_sma'] = data['Adj Close'].rolling(window=30).mean()
    data['close_60_sma'] = data['Adj Close'].rolling(window=60).mean()
    
    # Drop rows with NaN values after feature creation
    data.dropna(inplace=True)
    
    return data

def get_dow30_tickers():
    """Fetch the list of Dow 30 tickers from Wikipedia."""
    url = 'https://en.wikipedia.org/wiki/Dow_Jones_Industrial_Average'
    tables = pd.read_html(url)
    dow30_table = tables[1]  # Index might vary; adjust if necessary
    tickers = dow30_table['Symbol'].tolist()
    return tickers

# Fetch the list of Dow 30 tickers
dow30_tickers = get_dow30_tickers()

# Define the training time frame
start_date = "2014-01-01"
end_date = "2024-01-01"

# Initialize a list to collect the dataframes
all_data = []

for ticker in dow30_tickers:
    # Load data for each ticker
    data = load_stock_data(ticker, start_date, end_date)
    
    # Feature engineering
    data = feature_engineering(data)
    
    # Add a column for ticker to identify the stock later
    data['Ticker'] = ticker
    
    # Append to the list
    all_data.append(data)

# Concatenate all the dataframes into one
dataset_train = pd.concat(all_data)
dataset_train['inc_dec'] = np.where(dataset_train['Volume'].shift(-1) > dataset_train['Volume'], 1, 0)
dataset_train['returns'] = dataset_train['Adj Close'].pct_change()

# Print the shape of DataFrame and check for null values
print("Dataframe Shape: ", dataset_train.shape)
print("Null Value Present: ", dataset_train.isnull().values.any())



dataset_train.sample(10)


# labelencoder = LabelEncoder()

# dataset_train['Ticker'] = labelencoder.fit_transform(dataset_train['Ticker'])

# dataset_train.shape





X = dataset_train.drop(columns=['Adj Close', 'Date', 'Ticker']).fillna(0)
Y = dataset_train['Adj Close']
X


from sklearn.ensemble import RandomForestRegressor
clf = RandomForestRegressor(random_state=0, n_jobs=-1)
model = clf.fit(X, Y)

importances = model.feature_importances_


%matplotlib inline

indices = np.argsort(importances)[::-1]
names = [dataset_train.columns[i] for i in indices]

plt.figure()
plt.title("Feature Importance")
plt.bar(range(X.shape[1]), importances[indices])
plt.xticks(range(X.shape[1]), names, rotation=75)

plt.show





X = dataset_train.drop(columns=['inc_dec', 'Date', 'Ticker']).fillna(0)
Y = dataset_train['inc_dec']


clf = RandomForestRegressor(random_state=0, n_jobs=-1)
model = clf.fit(X, Y)

importances = model.feature_importances_


%matplotlib inline

indices = np.argsort(importances)[::-1]
names = [dataset_train.columns[i] for i in indices]

plt.figure()
plt.title("Feature Importance")
plt.bar(range(X.shape[1]), importances[indices])
plt.xticks(range(X.shape[1]), names, rotation=75)

plt.show
