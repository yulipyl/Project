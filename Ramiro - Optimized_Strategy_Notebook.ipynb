{
 "cells": [
  {
   "cell_type": "code",
   "execution_count": null,
   "id": "0608d76d",
   "metadata": {},
   "outputs": [],
   "source": [
    "\n",
    "import numpy as np\n",
    "import pandas as pd\n",
    "from sklearn.metrics import mean_squared_error, r2_score\n",
    "\n",
    "np.random.seed(42)  # For reproducibility\n"
   ]
  },
  {
   "cell_type": "code",
   "execution_count": null,
   "id": "b4d3889b",
   "metadata": {},
   "outputs": [],
   "source": [
    "\n",
    "# Generate dummy predictions (this would be your model's predicted prices)\n",
    "y_pred = np.random.rand(100) * 100  # Predicted prices\n",
    "\n",
    "# Generate dummy actual prices for backtesting (in reality, this would be your test data)\n",
    "y_test = np.random.rand(99) * 100  # One less because of np.diff\n"
   ]
  },
  {
   "cell_type": "code",
   "execution_count": null,
   "id": "8ebc8c93",
   "metadata": {},
   "outputs": [],
   "source": [
    "\n",
    "def calculate_slope(predictions, window=5):\n",
    "    if len(predictions) < window:\n",
    "        raise ValueError(\"Prediction array is shorter than the window size.\")\n",
    "    \n",
    "    slopes = []\n",
    "    for i in range(window, len(predictions)):\n",
    "        x = np.arange(window)\n",
    "        y = predictions[i-window:i]\n",
    "        slope, _ = np.polyfit(x, y, 1)\n",
    "        slopes.append(slope)\n",
    "    \n",
    "    return np.array(slopes)\n",
    "\n",
    "slopes = calculate_slope(y_pred)\n"
   ]
  },
  {
   "cell_type": "code",
   "execution_count": null,
   "id": "e3a9d540",
   "metadata": {},
   "outputs": [],
   "source": [
    "\n",
    "# Set a higher threshold for taking a position\n",
    "new_threshold = 0.05\n",
    "new_positions = np.where(slopes > new_threshold, 1, np.where(slopes < -new_threshold, -1, 0))\n",
    "\n",
    "# Align positions and returns\n",
    "returns = np.diff(y_test) / y_test[:-1]  # Calculate daily returns\n",
    "min_length = min(len(new_positions), len(returns))\n",
    "aligned_positions = new_positions[:min_length]\n",
    "aligned_returns = returns[:min_length]\n",
    "aligned_test_prices = y_test[:min_length + 1]  # Align prices\n",
    "\n",
    "# Backtest with stop-loss\n",
    "def backtest_strategy_with_stop_loss(positions, test_prices, stop_loss=0.02):\n",
    "    returns = np.diff(test_prices) / test_prices[:-1]\n",
    "    positions = positions[:len(returns)]  # Align positions with returns\n",
    "    \n",
    "    strategy_returns = []\n",
    "    for i, ret in enumerate(returns):\n",
    "        if positions[i] == 1 and ret < -stop_loss:\n",
    "            strategy_returns.append(-stop_loss)\n",
    "        elif positions[i] == -1 and ret > stop_loss:\n",
    "            strategy_returns.append(stop_loss)\n",
    "        else:\n",
    "            strategy_returns.append(positions[i] * ret)\n",
    "    \n",
    "    cumulative_returns = np.cumprod(1 + np.array(strategy_returns)) - 1\n",
    "    \n",
    "    results = pd.DataFrame({\n",
    "        'Position': positions,\n",
    "        'Strategy Returns': strategy_returns,\n",
    "        'Cumulative Returns': cumulative_returns\n",
    "    })\n",
    "    \n",
    "    return results\n",
    "\n",
    "new_backtest_results = backtest_strategy_with_stop_loss(aligned_positions, aligned_test_prices)\n"
   ]
  },
  {
   "cell_type": "code",
   "execution_count": null,
   "id": "483e6625",
   "metadata": {},
   "outputs": [],
   "source": [
    "\n",
    "def evaluate_performance(results):\n",
    "    total_return = results['Cumulative Returns'].iloc[-1]\n",
    "    annualized_return = (1 + total_return) ** (252 / len(results)) - 1\n",
    "    sharpe_ratio = (results['Strategy Returns'].mean() / results['Strategy Returns'].std()) * np.sqrt(252)\n",
    "    max_drawdown = (results['Cumulative Returns'].cummax() - results['Cumulative Returns']).max()\n",
    "    \n",
    "    metrics = {\n",
    "        'Total Return': total_return,\n",
    "        'Annualized Return': annualized_return,\n",
    "        'Sharpe Ratio': sharpe_ratio,\n",
    "        'Max Drawdown': max_drawdown\n",
    "    }\n",
    "    \n",
    "    return metrics\n",
    "\n",
    "new_performance_metrics = evaluate_performance(new_backtest_results)\n",
    "new_performance_metrics\n"
   ]
  }
 ],
 "metadata": {
  "kernelspec": {
   "display_name": "Python 3 (ipykernel)",
   "language": "python",
   "name": "python3"
  },
  "language_info": {
   "codemirror_mode": {
    "name": "ipython",
    "version": 3
   },
   "file_extension": ".py",
   "mimetype": "text/x-python",
   "name": "python",
   "nbconvert_exporter": "python",
   "pygments_lexer": "ipython3",
   "version": "3.12.4"
  }
 },
 "nbformat": 4,
 "nbformat_minor": 5
}
